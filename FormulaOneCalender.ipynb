{
 "cells": [
  {
   "cell_type": "markdown",
   "metadata": {},
   "source": [
    "# Proposal for Revised 2020 FIA Formula One Calender"
   ]
  },
  {
   "cell_type": "markdown",
   "metadata": {},
   "source": [
    "Import Dependencies"
   ]
  },
  {
   "cell_type": "code",
   "execution_count": 1,
   "metadata": {},
   "outputs": [
    {
     "name": "stderr",
     "output_type": "stream",
     "text": [
      "C:\\Users\\gajones\\Anaconda3\\lib\\site-packages\\sklearn\\utils\\deprecation.py:144: FutureWarning: The sklearn.datasets.samples_generator module is  deprecated in version 0.22 and will be removed in version 0.24. The corresponding classes / functions should instead be imported from sklearn.datasets. Anything that cannot be imported from sklearn.datasets is now part of the private API.\n",
      "  warnings.warn(message, FutureWarning)\n"
     ]
    }
   ],
   "source": [
    "import requests # library to handle requests\n",
    "\n",
    "#Web Scraping\n",
    "import urllib.request, urllib.parse, urllib.error\n",
    "from bs4 import BeautifulSoup as bs\n",
    "\n",
    "#Data Wrangling\n",
    "import pandas as pd\n",
    "import numpy as np\n",
    "from geopy.geocoders import Nominatim\n",
    "\n",
    "# tranforming json file into a pandas dataframe library\n",
    "from pandas.io.json import json_normalize\n",
    "\n",
    "#Data Visualistion\n",
    "from matplotlib import pyplot\n",
    "import matplotlib.pyplot as plt\n",
    "import folium # map rendering library\n",
    "\n",
    "#Machine Learning Libraries\n",
    "from sklearn.cluster import KMeans \n",
    "from sklearn.datasets.samples_generator import make_blobs\n",
    "from sklearn import linear_model"
   ]
  },
  {
   "cell_type": "markdown",
   "metadata": {},
   "source": [
    "## Original 2020 Calender"
   ]
  },
  {
   "cell_type": "markdown",
   "metadata": {},
   "source": [
    "### Use information regarding the original 2020 F1 Calender"
   ]
  },
  {
   "cell_type": "code",
   "execution_count": 3,
   "metadata": {},
   "outputs": [],
   "source": [
    "# scrape calender information from Wikipedia\n",
    "url2020 = 'https://en.wikipedia.org/wiki/2020_Formula_One_World_Championship'\n",
    "html = urllib.request.urlopen(url2020).read()\n",
    "\n",
    "# parse using BeautifulSoup \n",
    "phtml = bs(html,'html.parser')\n",
    "\n",
    "# Initialise features\n",
    "races = []\n",
    "circuits = []\n",
    "cities = []\n",
    "countries = []\n",
    "schedule = []"
   ]
  },
  {
   "cell_type": "markdown",
   "metadata": {},
   "source": [
    "Parse table of races already postponed in 2020 - assign a 'schedule' value of 0"
   ]
  },
  {
   "cell_type": "code",
   "execution_count": 4,
   "metadata": {},
   "outputs": [],
   "source": [
    "table_postponed = phtml.find_all('table')[3]\n",
    "rows = table_postponed.find_all('tr')\n",
    "\n",
    "for tr in rows:\n",
    "    td = tr.find_all('td')\n",
    "    row = [i.text for i in td]\n",
    "    if len(row) == 5:\n",
    "        temp = row[1].strip().split(',')\n",
    "        races.append(row[0].strip())\n",
    "        circuits.append(temp[0])\n",
    "        cities.append(temp[1])\n",
    "        schedule.append(0)\n",
    "        \n",
    "span = table_postponed.find_all('span',class_='flagicon')\n",
    "for s in span:\n",
    "    tests = s.find('a')\n",
    "    countries.append(tests.get('title',None))  "
   ]
  },
  {
   "cell_type": "markdown",
   "metadata": {},
   "source": [
    "Parse table of races still scheduled in 2020 - assign a 'schedule' value of 1"
   ]
  },
  {
   "cell_type": "code",
   "execution_count": 6,
   "metadata": {},
   "outputs": [],
   "source": [
    "table_scheduled = phtml.find_all('table')[2]\n",
    "rows = table_scheduled.find_all('tr')\n",
    "\n",
    "for tr in rows:\n",
    "    td = tr.find_all('td')\n",
    "    row = [i.text for i in td]\n",
    "    if len(row) == 3:\n",
    "        temp = row[1].strip().split(',')\n",
    "        races.append(row[0].strip())\n",
    "        circuits.append(temp[0])\n",
    "        cities.append(temp[1])\n",
    "        schedule.append(1)\n",
    "        \n",
    "span = table_scheduled.find_all('span',class_='flagicon')\n",
    "for s in span:\n",
    "    tests = s.find('a')\n",
    "    countries.append(tests.get('title',None))  "
   ]
  },
  {
   "cell_type": "markdown",
   "metadata": {},
   "source": [
    "Loop through 2020 calender information and obtain GeoLocation of all races"
   ]
  },
  {
   "cell_type": "code",
   "execution_count": 7,
   "metadata": {},
   "outputs": [],
   "source": [
    "latitudes = []\n",
    "longitudes = []\n",
    "for i in range(0,len(circuits)):\n",
    "    try:\n",
    "        address =  circuits[i]\n",
    "        geolocator = Nominatim(user_agent=\"race_checker\")\n",
    "        location = geolocator.geocode(address)\n",
    "        latitudes.append(location.latitude)\n",
    "        longitudes.append(location.longitude)\n",
    "    except:\n",
    "        if 'Stavelot' in cities[i]:\n",
    "            address =  'Route du Circuit'\n",
    "            geolocator = Nominatim(user_agent=\"race_checker\")\n",
    "            location = geolocator.geocode(address)\n",
    "            latitudes.append(location.latitude)\n",
    "            longitudes.append(location.longitude)        \n",
    "        elif 'Suzuka' in cities[i]:\n",
    "            address =  'Suzuka Circuit'\n",
    "            geolocator = Nominatim(user_agent=\"race_checker\")\n",
    "            location = geolocator.geocode(address)\n",
    "            latitudes.append(location.latitude)\n",
    "            longitudes.append(location.longitude)\n",
    "        else:\n",
    "            address =  cities[i]\n",
    "            geolocator = Nominatim(user_agent=\"race_checker\")\n",
    "            location = geolocator.geocode(address)\n",
    "            latitudes.append(location.latitude)\n",
    "            longitudes.append(location.longitude)"
   ]
  },
  {
   "cell_type": "markdown",
   "metadata": {},
   "source": [
    "### Build a dataframe of orignal 2020 Calender information"
   ]
  },
  {
   "cell_type": "code",
   "execution_count": 8,
   "metadata": {},
   "outputs": [
    {
     "data": {
      "text/html": [
       "<div>\n",
       "<style scoped>\n",
       "    .dataframe tbody tr th:only-of-type {\n",
       "        vertical-align: middle;\n",
       "    }\n",
       "\n",
       "    .dataframe tbody tr th {\n",
       "        vertical-align: top;\n",
       "    }\n",
       "\n",
       "    .dataframe thead th {\n",
       "        text-align: right;\n",
       "    }\n",
       "</style>\n",
       "<table border=\"1\" class=\"dataframe\">\n",
       "  <thead>\n",
       "    <tr style=\"text-align: right;\">\n",
       "      <th></th>\n",
       "      <th>Country</th>\n",
       "      <th>Grand Prix</th>\n",
       "      <th>Circuit</th>\n",
       "      <th>Location</th>\n",
       "      <th>Schedule</th>\n",
       "      <th>Latitude</th>\n",
       "      <th>Longitude</th>\n",
       "    </tr>\n",
       "  </thead>\n",
       "  <tbody>\n",
       "    <tr>\n",
       "      <th>0</th>\n",
       "      <td>Australia</td>\n",
       "      <td>Australian Grand Prix</td>\n",
       "      <td>Albert Park Circuit</td>\n",
       "      <td>Melbourne</td>\n",
       "      <td>0</td>\n",
       "      <td>-37.841353</td>\n",
       "      <td>144.963743</td>\n",
       "    </tr>\n",
       "    <tr>\n",
       "      <th>1</th>\n",
       "      <td>Bahrain</td>\n",
       "      <td>Bahrain Grand Prix</td>\n",
       "      <td>Bahrain International Circuit</td>\n",
       "      <td>Sakhir</td>\n",
       "      <td>0</td>\n",
       "      <td>26.028603</td>\n",
       "      <td>50.510336</td>\n",
       "    </tr>\n",
       "    <tr>\n",
       "      <th>2</th>\n",
       "      <td>Vietnam</td>\n",
       "      <td>Vietnamese Grand Prix</td>\n",
       "      <td>Hanoi Street Circuit</td>\n",
       "      <td>Hanoi</td>\n",
       "      <td>0</td>\n",
       "      <td>21.017009</td>\n",
       "      <td>105.764044</td>\n",
       "    </tr>\n",
       "    <tr>\n",
       "      <th>3</th>\n",
       "      <td>China</td>\n",
       "      <td>Chinese Grand Prix</td>\n",
       "      <td>Shanghai International Circuit</td>\n",
       "      <td>Shanghai</td>\n",
       "      <td>0</td>\n",
       "      <td>31.339979</td>\n",
       "      <td>121.219598</td>\n",
       "    </tr>\n",
       "    <tr>\n",
       "      <th>4</th>\n",
       "      <td>Netherlands</td>\n",
       "      <td>Dutch Grand Prix</td>\n",
       "      <td>Circuit Zandvoort</td>\n",
       "      <td>Zandvoort</td>\n",
       "      <td>0</td>\n",
       "      <td>52.382273</td>\n",
       "      <td>4.533707</td>\n",
       "    </tr>\n",
       "  </tbody>\n",
       "</table>\n",
       "</div>"
      ],
      "text/plain": [
       "       Country             Grand Prix                         Circuit  \\\n",
       "0    Australia  Australian Grand Prix             Albert Park Circuit   \n",
       "1      Bahrain     Bahrain Grand Prix   Bahrain International Circuit   \n",
       "2      Vietnam  Vietnamese Grand Prix            Hanoi Street Circuit   \n",
       "3        China     Chinese Grand Prix  Shanghai International Circuit   \n",
       "4  Netherlands       Dutch Grand Prix               Circuit Zandvoort   \n",
       "\n",
       "     Location  Schedule   Latitude   Longitude  \n",
       "0   Melbourne         0 -37.841353  144.963743  \n",
       "1      Sakhir         0  26.028603   50.510336  \n",
       "2       Hanoi         0  21.017009  105.764044  \n",
       "3    Shanghai         0  31.339979  121.219598  \n",
       "4   Zandvoort         0  52.382273    4.533707  "
      ]
     },
     "execution_count": 8,
     "metadata": {},
     "output_type": "execute_result"
    }
   ],
   "source": [
    "headers = ['Country','Grand Prix','Circuit','Location','Schedule','Latitude','Longitude']\n",
    "df = pd.DataFrame(list(zip(countries, races, circuits, cities, schedule, latitudes, longitudes)), columns = headers)\n",
    "df.head()"
   ]
  },
  {
   "cell_type": "markdown",
   "metadata": {},
   "source": [
    "## Investigate the distribution of Grand Prix around the world"
   ]
  },
  {
   "cell_type": "markdown",
   "metadata": {},
   "source": [
    "### Transform the continuous coordinate data into categorical data based on Hemishpere"
   ]
  },
  {
   "cell_type": "code",
   "execution_count": 10,
   "metadata": {},
   "outputs": [],
   "source": [
    "#define bins with bin edge at Equator (Latitude of 0)\n",
    "bins = np.linspace(-180, 180, 3)\n",
    "group_names = ['Southern','Northern']\n",
    "\n",
    "#Use 'cut' function to define regions\n",
    "df['Region'] = pd.cut(df['Latitude'], bins, labels = group_names, include_lowest = True )"
   ]
  },
  {
   "cell_type": "code",
   "execution_count": 11,
   "metadata": {},
   "outputs": [],
   "source": [
    "#Group the regions together\n",
    "df_region = df[['Region']]\n",
    "df_group = pd.DataFrame(df_region['Region'].value_counts())"
   ]
  },
  {
   "cell_type": "code",
   "execution_count": 13,
   "metadata": {},
   "outputs": [
    {
     "data": {
      "text/plain": [
       "Text(0.5, 1.0, 'Distribution of Grand Prix by Global Region')"
      ]
     },
     "execution_count": 13,
     "metadata": {},
     "output_type": "execute_result"
    },
    {
     "data": {
      "image/png": "[encoded data removed]",
      "text/plain": [
       "<Figure size 864x432 with 1 Axes>"
      ]
     },
     "metadata": {
      "needs_background": "light"
     },
     "output_type": "display_data"
    }
   ],
   "source": [
    "#produce bar plot to visualise distribution of Grand Prix\n",
    "df_group.plot(kind='barh', fontsize=14, figsize=(12, 6))\n",
    "plt.ylabel('Hemisphere',fontsize=16) # add to x-label to the plot\n",
    "plt.xlabel('Number of Grand Prix',fontsize=16) # add y-label to the plot\n",
    "plt.title('Distribution of Grand Prix by Global Region',fontsize=20) # add title to the plot"
   ]
  },
  {
   "cell_type": "markdown",
   "metadata": {},
   "source": [
    "### Map of Original 2020 Calender"
   ]
  },
  {
   "cell_type": "code",
   "execution_count": 16,
   "metadata": {},
   "outputs": [],
   "source": [
    "map_world = folium.Map(location=[df['Latitude'].mean(), df['Longitude'].mean()],zoom_start=2)\n",
    "\n",
    "g1 = folium.FeatureGroup(name='<span style=\\\\\"color: #cc3131;\\\\\">Postponed</span>')\n",
    "g2 = folium.FeatureGroup(name='<span style=\\\\\"color: #0cc913;\\\\\">Scheduled</span>')"
   ]
  },
  {
   "cell_type": "code",
   "execution_count": 105,
   "metadata": {},
   "outputs": [
    {
     "data": {
      "text/plain": [
       "<folium.map.LayerControl at 0x1d598fa64c8>"
      ]
     },
     "execution_count": 105,
     "metadata": {},
     "output_type": "execute_result"
    }
   ],
   "source": [
    "for lat, lng, grandprix, schedule in zip(df['Latitude'], df['Longitude'], df['Grand Prix'], df['Schedule']):\n",
    "    label = '{}'.format(grandprix)\n",
    "    label = folium.Popup(label, parse_html=True)\n",
    "    if schedule != 1:\n",
    "        folium.CircleMarker(\n",
    "            [lat, lng],\n",
    "            radius=3,\n",
    "            popup=label,\n",
    "            color='#cc3131',\n",
    "            fill=True,\n",
    "            fill_color='#f59c78',\n",
    "            fill_opacity=0.7,\n",
    "            parse_html=False).add_to(g1)  \n",
    "        \n",
    "    else:\n",
    "        folium.CircleMarker(\n",
    "            [lat, lng],\n",
    "            radius=3,\n",
    "            popup=label,\n",
    "            color='#0cc913',\n",
    "            fill=True,\n",
    "            fill_color='#5fba62',\n",
    "            fill_opacity=0.7,\n",
    "            parse_html=False).add_to(g2)   \n",
    "\n",
    "g1.add_to(map_world)        \n",
    "g2.add_to(map_world)        \n",
    "\n",
    "folium.map.LayerControl('topright', collapsed=False).add_to(map_world)  "
   ]
  },
  {
   "cell_type": "code",
   "execution_count": 106,
   "metadata": {},
   "outputs": [
    {
     "data": {
      "text/html": [
       "<div style=\"width:100%;\"><div style=\"position:relative;width:100%;height:0;padding-bottom:60%;\"><iframe src=\"about:blank\" style=\"position:absolute;width:100%;height:100%;left:0;top:0;border:none !important;\" data-html=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 onload=\"this.contentDocument.open();this.contentDocument.write(atob(this.getAttribute('data-html')));this.contentDocument.close();\" allowfullscreen webkitallowfullscreen mozallowfullscreen></iframe></div></div>"
      ],
      "text/plain": [
       "<folium.folium.Map at 0x1d5961ddf88>"
      ]
     },
     "execution_count": 106,
     "metadata": {},
     "output_type": "execute_result"
    }
   ],
   "source": [
    "map_world"
   ]
  },
  {
   "cell_type": "markdown",
   "metadata": {},
   "source": [
    "### Cluster races using K-means"
   ]
  },
  {
   "cell_type": "code",
   "execution_count": 20,
   "metadata": {},
   "outputs": [],
   "source": [
    "# Create numpy array from coordinates\n",
    "X = np.column_stack((list(df['Longitude']), list(df['Latitude'])))"
   ]
  },
  {
   "cell_type": "code",
   "execution_count": 22,
   "metadata": {},
   "outputs": [],
   "source": [
    "#Perform k-means clustering\n",
    "k_means = KMeans(init = \"k-means++\", n_clusters = 4, n_init = 12)\n",
    "k_means.fit(X)\n",
    "\n",
    "k_means_labels = k_means.labels_\n",
    "k_means_cluster_centers = k_means.cluster_centers_"
   ]
  },
  {
   "cell_type": "code",
   "execution_count": 24,
   "metadata": {},
   "outputs": [
    {
     "data": {
      "image/png": "[encoded data removed]",
      "text/plain": [
       "<Figure size 1152x576 with 1 Axes>"
      ]
     },
     "metadata": {},
     "output_type": "display_data"
    }
   ],
   "source": [
    "#Plot clusters and their centres\n",
    "fig = plt.figure(figsize=(16, 8))\n",
    "\n",
    "# Colors uses a color map, which will produce an array of colors based on\n",
    "# the number of labels there are. We use set(k_means_labels) to get the\n",
    "# unique labels.\n",
    "colors = plt.cm.Spectral(np.linspace(0, 1, len(set(k_means_labels))))\n",
    "\n",
    "# Create a plot\n",
    "ax = fig.add_subplot(1, 1, 1)\n",
    "\n",
    "# For loop that plots the data points and centroids.\n",
    "# k will range from 0-3, which will match the possible clusters that each\n",
    "# data point is in.\n",
    "for k, col in zip(range(len([[4,4], [-2, -1], [2, -3], [1, 1]])), colors):\n",
    "\n",
    "    # Create a list of all data points, where the data poitns that are \n",
    "    # in the cluster (ex. cluster 0) are labeled as true, else they are\n",
    "    # labeled as false.\n",
    "    my_members = (k_means_labels == k)\n",
    "    \n",
    "    # Define the centroid, or cluster center.\n",
    "    cluster_center = k_means_cluster_centers[k]\n",
    "    \n",
    "    # Plots the datapoints with color col.\n",
    "    ax.plot(X[my_members, 0], X[my_members, 1], 'o', markerfacecolor=col, marker='.', markersize=12)\n",
    "    \n",
    "    # Plots the centroids with specified color, but with a darker outline\n",
    "    ax.plot(cluster_center[0], cluster_center[1], 'o', markerfacecolor=col,  markeredgecolor='k', markersize=18)\n",
    "\n",
    "# Title of the plot\n",
    "ax.set_title('KMeans Clusters of Race events', fontsize = 20)\n",
    "\n",
    "# Remove x-axis ticks\n",
    "ax.set_xticks(())\n",
    "\n",
    "# Remove y-axis ticks\n",
    "ax.set_yticks(())\n",
    "\n",
    "# Show the plot\n",
    "plt.show()"
   ]
  },
  {
   "cell_type": "markdown",
   "metadata": {},
   "source": [
    "## Data Acquisition"
   ]
  },
  {
   "cell_type": "markdown",
   "metadata": {},
   "source": [
    "### Which races had the highest attendance in 2019?"
   ]
  },
  {
   "cell_type": "code",
   "execution_count": 25,
   "metadata": {},
   "outputs": [],
   "source": [
    "total_att = [324100,97000,160428,85000,307000,160000,203000,351000,\n",
    "             230000,251864,200000,202146,268000,345694]\n",
    "countries_att = ['Australia', 'Bahrain', 'Spain', 'Azerbaijan', 'Canada', 'France', 'Austria',\n",
    " 'United Kingdom', 'Hungary', 'Belgium', 'Italy', 'Japan', 'United States', 'Mexico']\n",
    "\n",
    "total_att_append = []"
   ]
  },
  {
   "cell_type": "code",
   "execution_count": 26,
   "metadata": {},
   "outputs": [],
   "source": [
    "for country in df['Country']:\n",
    "    count = 0  \n",
    "    for att in countries_att:\n",
    "        if att == country:\n",
    "            C = country\n",
    "            T = total_att[count]\n",
    "            count = count + 1\n",
    "            break\n",
    "        else:\n",
    "            C = country\n",
    "            T = np.nan        \n",
    "            count = count + 1\n",
    "    total_att_append.append(T)"
   ]
  },
  {
   "cell_type": "code",
   "execution_count": 27,
   "metadata": {},
   "outputs": [],
   "source": [
    "df['Attendance'] = list(map(float,total_att_append))"
   ]
  },
  {
   "cell_type": "markdown",
   "metadata": {},
   "source": [
    "create sub-data frame for plotting results"
   ]
  },
  {
   "cell_type": "code",
   "execution_count": 36,
   "metadata": {},
   "outputs": [],
   "source": [
    "# DataFrame containing host countries and attendences\n",
    "df_att = df[['Country', 'Attendance']].copy()\n",
    "df_att['Attendance'] = list(map(float,df_att['Attendance']))\n",
    "df_att['Country'] = list(map(str,df_att['Country']))"
   ]
  },
  {
   "cell_type": "code",
   "execution_count": 37,
   "metadata": {},
   "outputs": [],
   "source": [
    "df_att = df_att.set_index('Country')\n",
    "df_att.sort_values(['Attendance'], ascending=False, axis=0, inplace=True)"
   ]
  },
  {
   "cell_type": "code",
   "execution_count": 38,
   "metadata": {},
   "outputs": [
    {
     "data": {
      "text/plain": [
       "Text(0.5, 0, 'Country')"
      ]
     },
     "execution_count": 38,
     "metadata": {},
     "output_type": "execute_result"
    },
    {
     "data": {
      "image/png": "[encoded data removed]",
      "text/plain": [
       "<Figure size 1152x432 with 1 Axes>"
      ]
     },
     "metadata": {
      "needs_background": "light"
     },
     "output_type": "display_data"
    }
   ],
   "source": [
    "df_att.plot(kind='bar', fontsize=14, figsize=(16, 6))\n",
    "plt.title('2019 Grand Prix Attendance Figures',fontsize=20)\n",
    "plt.ylabel('Attendance',fontsize=16)\n",
    "plt.xlabel('Country',fontsize=16)"
   ]
  },
  {
   "cell_type": "markdown",
   "metadata": {},
   "source": [
    "### Which circuit is the most popular on FourSquare"
   ]
  },
  {
   "cell_type": "code",
   "execution_count": 49,
   "metadata": {},
   "outputs": [],
   "source": [
    "# FourSquare Credentials\n",
    "CLIENT_ID = 'G4FHOQGQ2YXF42EBT03IADNROE0WDDZDFOLG54RYX2U0E1SY' # your Foursquare ID\n",
    "CLIENT_SECRET = 'FUZNZUIRWHC0EG1JXNZA22MLSPEK33TL0B3XMYI1GGDTSUIY' # your Foursquare Secret\n",
    "VERSION = '20180604'\n",
    "LIMIT = 50"
   ]
  },
  {
   "cell_type": "markdown",
   "metadata": {},
   "source": [
    "Generate URLs using Latitude/Longtiude data found earlier in the notebook"
   ]
  },
  {
   "cell_type": "markdown",
   "metadata": {},
   "source": [
    "Search for 'Formula 1' at those locations"
   ]
  },
  {
   "cell_type": "code",
   "execution_count": 50,
   "metadata": {},
   "outputs": [],
   "source": [
    "search_query = 'Formula 1'\n",
    "radius = 15000\n",
    "urls = [];\n",
    "count = 0\n",
    "for circuit in circuits:\n",
    "    urls.append('https://api.foursquare.com/v2/venues/search?client_id={}&client_secret={}&ll={},{}&v={}&query={}&radius={}&limit={}'.format(CLIENT_ID, CLIENT_SECRET, df.iloc[count,5], df.iloc[count,6], VERSION, search_query, radius, LIMIT))\n",
    "    count = count + 1"
   ]
  },
  {
   "cell_type": "code",
   "execution_count": 51,
   "metadata": {},
   "outputs": [],
   "source": [
    "def get_category_type(row):\n",
    "    try:\n",
    "        categories_list = row['categories']\n",
    "    except:\n",
    "        categories_list = row['venue.categories']\n",
    "        \n",
    "    if len(categories_list) == 0:\n",
    "        return None\n",
    "    else:\n",
    "        return categories_list[0]['name']"
   ]
  },
  {
   "cell_type": "markdown",
   "metadata": {},
   "source": [
    "Loop through the list of URLs created above and interrogate the locations with 'Formula 1' tags"
   ]
  },
  {
   "cell_type": "markdown",
   "metadata": {},
   "source": [
    "If locations have a category 'racetrack' then find out how many photos and 'likes' have been posted there"
   ]
  },
  {
   "cell_type": "code",
   "execution_count": 52,
   "metadata": {},
   "outputs": [
    {
     "name": "stderr",
     "output_type": "stream",
     "text": [
      "C:\\Users\\gajones\\Anaconda3\\lib\\site-packages\\ipykernel_launcher.py:6: FutureWarning: pandas.io.json.json_normalize is deprecated, use pandas.json_normalize instead\n",
      "  \n"
     ]
    }
   ],
   "source": [
    "engagement = []\n",
    "for url in urls:\n",
    "    try:\n",
    "        results = requests.get(url).json()\n",
    "        venues = results['response']['venues']\n",
    "        dataframe = json_normalize(venues)\n",
    "        \n",
    "        filtered_columns = ['name', 'categories'] + [col for col in dataframe.columns if col.startswith('location.')] + ['id']\n",
    "        dataframe_filtered = dataframe.loc[:, filtered_columns]\n",
    "        \n",
    "        dataframe_filtered['categories'] = dataframe_filtered.apply(get_category_type, axis=1)\n",
    "        \n",
    "        dataframe_filtered.columns = [column.split('.')[-1] for column in dataframe_filtered.columns]\n",
    "        \n",
    "        count = 0\n",
    "        sum_engagement = 0\n",
    "        for category in dataframe_filtered.categories:\n",
    "            cat = str(category).lower()\n",
    "            if cat == 'racetrack':\n",
    "                venue_id = dataframe_filtered.id[count]\n",
    "                url_id = 'https://api.foursquare.com/v2/venues/{}?client_id={}&client_secret={}&v={}'.format(venue_id, CLIENT_ID, CLIENT_SECRET, VERSION)\n",
    "                result_id = requests.get(url_id).json()\n",
    "                \n",
    "                try:\n",
    "                    L = result_id['response']['venue']['likes']['count']\n",
    "                except:\n",
    "                    continue\n",
    "                    \n",
    "                try:\n",
    "                    P = result_id['response']['venue']['photos']['count']\n",
    "                except:\n",
    "                    continue\n",
    "                \n",
    "                id_engagement = int(L) + int(P)\n",
    "                sum_engagement = sum_engagement + id_engagement\n",
    "                count = count + 1\n",
    "            else:\n",
    "                count = count + 1 \n",
    "        engagement.append(sum_engagement)\n",
    "    except:\n",
    "        engagement.append(np.nan)"
   ]
  },
  {
   "cell_type": "code",
   "execution_count": 53,
   "metadata": {},
   "outputs": [],
   "source": [
    "df['Engagement'] = engagement"
   ]
  },
  {
   "cell_type": "markdown",
   "metadata": {},
   "source": [
    "create sub-data frame for plotting results"
   ]
  },
  {
   "cell_type": "code",
   "execution_count": 54,
   "metadata": {},
   "outputs": [],
   "source": [
    "# DataFrame containing host countries and fan engagement\n",
    "df_engage = df[['Country', 'Engagement']].copy()\n",
    "df_engage['Engagement'] = list(map(int,df_engage['Engagement']))\n",
    "df_engage['Country'] = list(map(str,df_engage['Country']))"
   ]
  },
  {
   "cell_type": "code",
   "execution_count": 55,
   "metadata": {},
   "outputs": [],
   "source": [
    "df_engage = df_engage.set_index('Country')\n",
    "df_engage.sort_values(['Engagement'], ascending=False, axis=0, inplace=True)"
   ]
  },
  {
   "cell_type": "code",
   "execution_count": 56,
   "metadata": {},
   "outputs": [
    {
     "data": {
      "text/plain": [
       "Text(0.5, 1.0, 'Fan Engagement by country on the current F1 Calender')"
      ]
     },
     "execution_count": 56,
     "metadata": {},
     "output_type": "execute_result"
    },
    {
     "data": {
      "image/png": "[encoded data removed]",
      "text/plain": [
       "<Figure size 1152x432 with 1 Axes>"
      ]
     },
     "metadata": {
      "needs_background": "light"
     },
     "output_type": "display_data"
    }
   ],
   "source": [
    "df_engage.plot(kind='bar', fontsize=14, figsize=(16, 6))\n",
    "plt.xlabel('Country',fontsize=16)\n",
    "plt.ylabel('Fan Engagement',fontsize=16)\n",
    "plt.title('Fan Engagement by country on the current F1 Calender',fontsize=20)"
   ]
  },
  {
   "cell_type": "markdown",
   "metadata": {},
   "source": [
    "## Regression Analysis"
   ]
  },
  {
   "cell_type": "code",
   "execution_count": 57,
   "metadata": {},
   "outputs": [],
   "source": [
    "regr = linear_model.LinearRegression()"
   ]
  },
  {
   "cell_type": "code",
   "execution_count": 58,
   "metadata": {},
   "outputs": [],
   "source": [
    "# Append engagement sub-data frame with attendacnce figures so the two variables can be correlated\n",
    "df_engage['Attendance'] = df_att['Attendance']\n",
    "df_engage.columns = ['ENGAGEMENT','ATTENDANCE']"
   ]
  },
  {
   "cell_type": "markdown",
   "metadata": {},
   "source": [
    "For the regression analysis missing data and outliers will be removed"
   ]
  },
  {
   "cell_type": "code",
   "execution_count": 59,
   "metadata": {},
   "outputs": [],
   "source": [
    "df_engage.replace(0, np.nan, inplace = True)\n",
    "\n",
    "df_engage.dropna(inplace=True)\n",
    "df_engage.drop('Mexico',inplace=True)"
   ]
  },
  {
   "cell_type": "code",
   "execution_count": null,
   "metadata": {},
   "outputs": [],
   "source": [
    "regr = linear_model.LinearRegression()"
   ]
  },
  {
   "cell_type": "code",
   "execution_count": 60,
   "metadata": {},
   "outputs": [
    {
     "data": {
      "text/plain": [
       "LinearRegression(copy_X=True, fit_intercept=True, n_jobs=None, normalize=False)"
      ]
     },
     "execution_count": 60,
     "metadata": {},
     "output_type": "execute_result"
    }
   ],
   "source": [
    "x = np.asanyarray(df_engage[['ENGAGEMENT']])\n",
    "y = np.asanyarray(df_engage[['ATTENDANCE']])\n",
    "regr.fit (x, y)"
   ]
  },
  {
   "cell_type": "code",
   "execution_count": 61,
   "metadata": {},
   "outputs": [
    {
     "data": {
      "text/plain": [
       "Text(0.5, 1.0, 'Correlation of Fan Engagement to Race Attendance')"
      ]
     },
     "execution_count": 61,
     "metadata": {},
     "output_type": "execute_result"
    },
    {
     "data": {
      "image/png": "[encoded data removed]",
      "text/plain": [
       "<Figure size 432x288 with 1 Axes>"
      ]
     },
     "metadata": {
      "needs_background": "light"
     },
     "output_type": "display_data"
    }
   ],
   "source": [
    "plt.scatter(df_engage.ENGAGEMENT, df_engage.ATTENDANCE,  color='blue')\n",
    "plt.plot(x, regr.coef_[0][0]*x + regr.intercept_[0], '-r')\n",
    "plt.xlabel(\"Fan Engagement\", fontsize=16)\n",
    "plt.ylabel(\"Race Attendance\", fontsize=16)\n",
    "plt.title(\"Correlation of Fan Engagement to Race Attendance\", fontsize=20)"
   ]
  },
  {
   "cell_type": "markdown",
   "metadata": {},
   "source": [
    "## Remove 4 races based on global distribution and Fan Engagement"
   ]
  },
  {
   "cell_type": "code",
   "execution_count": 62,
   "metadata": {},
   "outputs": [
    {
     "data": {
      "text/html": [
       "<div>\n",
       "<style scoped>\n",
       "    .dataframe tbody tr th:only-of-type {\n",
       "        vertical-align: middle;\n",
       "    }\n",
       "\n",
       "    .dataframe tbody tr th {\n",
       "        vertical-align: top;\n",
       "    }\n",
       "\n",
       "    .dataframe thead th {\n",
       "        text-align: right;\n",
       "    }\n",
       "</style>\n",
       "<table border=\"1\" class=\"dataframe\">\n",
       "  <thead>\n",
       "    <tr style=\"text-align: right;\">\n",
       "      <th></th>\n",
       "      <th>Country</th>\n",
       "      <th>Grand Prix</th>\n",
       "      <th>Circuit</th>\n",
       "      <th>Location</th>\n",
       "      <th>Schedule</th>\n",
       "      <th>Latitude</th>\n",
       "      <th>Longitude</th>\n",
       "      <th>Region</th>\n",
       "      <th>Attendance</th>\n",
       "      <th>Engagement</th>\n",
       "    </tr>\n",
       "  </thead>\n",
       "  <tbody>\n",
       "    <tr>\n",
       "      <th>0</th>\n",
       "      <td>Australia</td>\n",
       "      <td>Australian Grand Prix</td>\n",
       "      <td>Albert Park Circuit</td>\n",
       "      <td>Melbourne</td>\n",
       "      <td>0</td>\n",
       "      <td>-37.841353</td>\n",
       "      <td>144.963743</td>\n",
       "      <td>Southern</td>\n",
       "      <td>324100.0</td>\n",
       "      <td>980</td>\n",
       "    </tr>\n",
       "    <tr>\n",
       "      <th>1</th>\n",
       "      <td>Bahrain</td>\n",
       "      <td>Bahrain Grand Prix</td>\n",
       "      <td>Bahrain International Circuit</td>\n",
       "      <td>Sakhir</td>\n",
       "      <td>0</td>\n",
       "      <td>26.028603</td>\n",
       "      <td>50.510336</td>\n",
       "      <td>Northern</td>\n",
       "      <td>97000.0</td>\n",
       "      <td>1308</td>\n",
       "    </tr>\n",
       "    <tr>\n",
       "      <th>2</th>\n",
       "      <td>Vietnam</td>\n",
       "      <td>Vietnamese Grand Prix</td>\n",
       "      <td>Hanoi Street Circuit</td>\n",
       "      <td>Hanoi</td>\n",
       "      <td>0</td>\n",
       "      <td>21.017009</td>\n",
       "      <td>105.764044</td>\n",
       "      <td>Northern</td>\n",
       "      <td>NaN</td>\n",
       "      <td>0</td>\n",
       "    </tr>\n",
       "    <tr>\n",
       "      <th>3</th>\n",
       "      <td>China</td>\n",
       "      <td>Chinese Grand Prix</td>\n",
       "      <td>Shanghai International Circuit</td>\n",
       "      <td>Shanghai</td>\n",
       "      <td>0</td>\n",
       "      <td>31.339979</td>\n",
       "      <td>121.219598</td>\n",
       "      <td>Northern</td>\n",
       "      <td>NaN</td>\n",
       "      <td>778</td>\n",
       "    </tr>\n",
       "    <tr>\n",
       "      <th>4</th>\n",
       "      <td>Netherlands</td>\n",
       "      <td>Dutch Grand Prix</td>\n",
       "      <td>Circuit Zandvoort</td>\n",
       "      <td>Zandvoort</td>\n",
       "      <td>0</td>\n",
       "      <td>52.382273</td>\n",
       "      <td>4.533707</td>\n",
       "      <td>Northern</td>\n",
       "      <td>NaN</td>\n",
       "      <td>14</td>\n",
       "    </tr>\n",
       "    <tr>\n",
       "      <th>5</th>\n",
       "      <td>Spain</td>\n",
       "      <td>Spanish Grand Prix</td>\n",
       "      <td>Circuit de Barcelona-Catalunya</td>\n",
       "      <td>Montmeló</td>\n",
       "      <td>0</td>\n",
       "      <td>41.569469</td>\n",
       "      <td>2.258063</td>\n",
       "      <td>Northern</td>\n",
       "      <td>160428.0</td>\n",
       "      <td>2629</td>\n",
       "    </tr>\n",
       "    <tr>\n",
       "      <th>6</th>\n",
       "      <td>Monaco</td>\n",
       "      <td>Monaco Grand Prix</td>\n",
       "      <td>Circuit de Monaco</td>\n",
       "      <td>Monte Carlo</td>\n",
       "      <td>0</td>\n",
       "      <td>48.264099</td>\n",
       "      <td>4.616128</td>\n",
       "      <td>Northern</td>\n",
       "      <td>NaN</td>\n",
       "      <td>0</td>\n",
       "    </tr>\n",
       "    <tr>\n",
       "      <th>7</th>\n",
       "      <td>Azerbaijan</td>\n",
       "      <td>Azerbaijan Grand Prix</td>\n",
       "      <td>Baku City Circuit</td>\n",
       "      <td>Baku</td>\n",
       "      <td>0</td>\n",
       "      <td>40.375443</td>\n",
       "      <td>49.832675</td>\n",
       "      <td>Northern</td>\n",
       "      <td>85000.0</td>\n",
       "      <td>138</td>\n",
       "    </tr>\n",
       "    <tr>\n",
       "      <th>8</th>\n",
       "      <td>Canada</td>\n",
       "      <td>Canadian Grand Prix</td>\n",
       "      <td>Circuit Gilles Villeneuve</td>\n",
       "      <td>Montréal</td>\n",
       "      <td>0</td>\n",
       "      <td>45.500103</td>\n",
       "      <td>-73.522715</td>\n",
       "      <td>Northern</td>\n",
       "      <td>307000.0</td>\n",
       "      <td>1032</td>\n",
       "    </tr>\n",
       "    <tr>\n",
       "      <th>9</th>\n",
       "      <td>France</td>\n",
       "      <td>French Grand Prix</td>\n",
       "      <td>Circuit Paul Ricard</td>\n",
       "      <td>Le Castellet</td>\n",
       "      <td>0</td>\n",
       "      <td>43.257544</td>\n",
       "      <td>5.780472</td>\n",
       "      <td>Northern</td>\n",
       "      <td>160000.0</td>\n",
       "      <td>0</td>\n",
       "    </tr>\n",
       "    <tr>\n",
       "      <th>10</th>\n",
       "      <td>Austria</td>\n",
       "      <td>Austrian Grand Prix</td>\n",
       "      <td>Red Bull Ring</td>\n",
       "      <td>Spielberg</td>\n",
       "      <td>1</td>\n",
       "      <td>47.223539</td>\n",
       "      <td>14.760464</td>\n",
       "      <td>Northern</td>\n",
       "      <td>203000.0</td>\n",
       "      <td>0</td>\n",
       "    </tr>\n",
       "    <tr>\n",
       "      <th>11</th>\n",
       "      <td>United Kingdom</td>\n",
       "      <td>British Grand Prix</td>\n",
       "      <td>Silverstone Circuit</td>\n",
       "      <td>Silverstone</td>\n",
       "      <td>1</td>\n",
       "      <td>52.071812</td>\n",
       "      <td>-1.014299</td>\n",
       "      <td>Northern</td>\n",
       "      <td>351000.0</td>\n",
       "      <td>1275</td>\n",
       "    </tr>\n",
       "    <tr>\n",
       "      <th>12</th>\n",
       "      <td>Hungary</td>\n",
       "      <td>Hungarian Grand Prix</td>\n",
       "      <td>Hungaroring</td>\n",
       "      <td>Mogyoród</td>\n",
       "      <td>1</td>\n",
       "      <td>47.582649</td>\n",
       "      <td>19.250024</td>\n",
       "      <td>Northern</td>\n",
       "      <td>230000.0</td>\n",
       "      <td>1617</td>\n",
       "    </tr>\n",
       "    <tr>\n",
       "      <th>13</th>\n",
       "      <td>Belgium</td>\n",
       "      <td>Belgian Grand Prix</td>\n",
       "      <td>Circuit de Spa-Francorchamps</td>\n",
       "      <td>Stavelot</td>\n",
       "      <td>1</td>\n",
       "      <td>50.448850</td>\n",
       "      <td>5.965806</td>\n",
       "      <td>Northern</td>\n",
       "      <td>251864.0</td>\n",
       "      <td>3241</td>\n",
       "    </tr>\n",
       "    <tr>\n",
       "      <th>14</th>\n",
       "      <td>Italy</td>\n",
       "      <td>Italian Grand Prix</td>\n",
       "      <td>Autodromo Nazionale di Monza</td>\n",
       "      <td>Monza</td>\n",
       "      <td>1</td>\n",
       "      <td>45.619106</td>\n",
       "      <td>9.282641</td>\n",
       "      <td>Northern</td>\n",
       "      <td>200000.0</td>\n",
       "      <td>1900</td>\n",
       "    </tr>\n",
       "    <tr>\n",
       "      <th>15</th>\n",
       "      <td>Singapore</td>\n",
       "      <td>Singapore Grand Prix</td>\n",
       "      <td>Marina Bay Street Circuit</td>\n",
       "      <td>Singapore</td>\n",
       "      <td>1</td>\n",
       "      <td>1.294785</td>\n",
       "      <td>103.862879</td>\n",
       "      <td>Northern</td>\n",
       "      <td>NaN</td>\n",
       "      <td>882</td>\n",
       "    </tr>\n",
       "    <tr>\n",
       "      <th>16</th>\n",
       "      <td>Russia</td>\n",
       "      <td>Russian Grand Prix</td>\n",
       "      <td>Sochi Autodrom</td>\n",
       "      <td>Sochi</td>\n",
       "      <td>1</td>\n",
       "      <td>43.407433</td>\n",
       "      <td>39.960680</td>\n",
       "      <td>Northern</td>\n",
       "      <td>NaN</td>\n",
       "      <td>2756</td>\n",
       "    </tr>\n",
       "    <tr>\n",
       "      <th>17</th>\n",
       "      <td>Japan</td>\n",
       "      <td>Japanese Grand Prix</td>\n",
       "      <td>Suzuka International Racing Course</td>\n",
       "      <td>Suzuka</td>\n",
       "      <td>1</td>\n",
       "      <td>34.848102</td>\n",
       "      <td>136.538086</td>\n",
       "      <td>Northern</td>\n",
       "      <td>202146.0</td>\n",
       "      <td>495</td>\n",
       "    </tr>\n",
       "    <tr>\n",
       "      <th>18</th>\n",
       "      <td>United States</td>\n",
       "      <td>United States Grand Prix</td>\n",
       "      <td>Circuit of the Americas</td>\n",
       "      <td>Austin</td>\n",
       "      <td>1</td>\n",
       "      <td>30.138715</td>\n",
       "      <td>-97.636410</td>\n",
       "      <td>Northern</td>\n",
       "      <td>268000.0</td>\n",
       "      <td>4359</td>\n",
       "    </tr>\n",
       "    <tr>\n",
       "      <th>19</th>\n",
       "      <td>Mexico</td>\n",
       "      <td>Mexico City Grand Prix</td>\n",
       "      <td>Autódromo Hermanos Rodríguez</td>\n",
       "      <td>Mexico City</td>\n",
       "      <td>1</td>\n",
       "      <td>19.398619</td>\n",
       "      <td>-99.086335</td>\n",
       "      <td>Northern</td>\n",
       "      <td>345694.0</td>\n",
       "      <td>15493</td>\n",
       "    </tr>\n",
       "    <tr>\n",
       "      <th>20</th>\n",
       "      <td>Brazil</td>\n",
       "      <td>Brazilian Grand Prix</td>\n",
       "      <td>Autódromo José Carlos Pace</td>\n",
       "      <td>São Paulo</td>\n",
       "      <td>1</td>\n",
       "      <td>-23.700522</td>\n",
       "      <td>-46.697170</td>\n",
       "      <td>Southern</td>\n",
       "      <td>NaN</td>\n",
       "      <td>31</td>\n",
       "    </tr>\n",
       "    <tr>\n",
       "      <th>21</th>\n",
       "      <td>United Arab Emirates</td>\n",
       "      <td>Abu Dhabi Grand Prix</td>\n",
       "      <td>Yas Marina Circuit</td>\n",
       "      <td>Abu Dhabi</td>\n",
       "      <td>1</td>\n",
       "      <td>24.471845</td>\n",
       "      <td>54.605789</td>\n",
       "      <td>Northern</td>\n",
       "      <td>NaN</td>\n",
       "      <td>2291</td>\n",
       "    </tr>\n",
       "  </tbody>\n",
       "</table>\n",
       "</div>"
      ],
      "text/plain": [
       "                 Country                Grand Prix  \\\n",
       "0              Australia     Australian Grand Prix   \n",
       "1                Bahrain        Bahrain Grand Prix   \n",
       "2                Vietnam     Vietnamese Grand Prix   \n",
       "3                  China        Chinese Grand Prix   \n",
       "4            Netherlands          Dutch Grand Prix   \n",
       "5                  Spain        Spanish Grand Prix   \n",
       "6                 Monaco         Monaco Grand Prix   \n",
       "7             Azerbaijan     Azerbaijan Grand Prix   \n",
       "8                 Canada       Canadian Grand Prix   \n",
       "9                 France         French Grand Prix   \n",
       "10               Austria       Austrian Grand Prix   \n",
       "11        United Kingdom        British Grand Prix   \n",
       "12               Hungary      Hungarian Grand Prix   \n",
       "13               Belgium        Belgian Grand Prix   \n",
       "14                 Italy        Italian Grand Prix   \n",
       "15             Singapore      Singapore Grand Prix   \n",
       "16                Russia        Russian Grand Prix   \n",
       "17                 Japan       Japanese Grand Prix   \n",
       "18         United States  United States Grand Prix   \n",
       "19                Mexico    Mexico City Grand Prix   \n",
       "20                Brazil      Brazilian Grand Prix   \n",
       "21  United Arab Emirates      Abu Dhabi Grand Prix   \n",
       "\n",
       "                               Circuit       Location  Schedule   Latitude  \\\n",
       "0                  Albert Park Circuit      Melbourne         0 -37.841353   \n",
       "1        Bahrain International Circuit         Sakhir         0  26.028603   \n",
       "2                 Hanoi Street Circuit          Hanoi         0  21.017009   \n",
       "3       Shanghai International Circuit       Shanghai         0  31.339979   \n",
       "4                    Circuit Zandvoort      Zandvoort         0  52.382273   \n",
       "5       Circuit de Barcelona-Catalunya       Montmeló         0  41.569469   \n",
       "6                    Circuit de Monaco    Monte Carlo         0  48.264099   \n",
       "7                    Baku City Circuit           Baku         0  40.375443   \n",
       "8            Circuit Gilles Villeneuve       Montréal         0  45.500103   \n",
       "9                  Circuit Paul Ricard   Le Castellet         0  43.257544   \n",
       "10                       Red Bull Ring      Spielberg         1  47.223539   \n",
       "11                 Silverstone Circuit    Silverstone         1  52.071812   \n",
       "12                         Hungaroring       Mogyoród         1  47.582649   \n",
       "13        Circuit de Spa-Francorchamps       Stavelot         1  50.448850   \n",
       "14        Autodromo Nazionale di Monza          Monza         1  45.619106   \n",
       "15           Marina Bay Street Circuit      Singapore         1   1.294785   \n",
       "16                      Sochi Autodrom          Sochi         1  43.407433   \n",
       "17  Suzuka International Racing Course         Suzuka         1  34.848102   \n",
       "18             Circuit of the Americas         Austin         1  30.138715   \n",
       "19        Autódromo Hermanos Rodríguez    Mexico City         1  19.398619   \n",
       "20          Autódromo José Carlos Pace      São Paulo         1 -23.700522   \n",
       "21                  Yas Marina Circuit      Abu Dhabi         1  24.471845   \n",
       "\n",
       "     Longitude    Region  Attendance  Engagement  \n",
       "0   144.963743  Southern    324100.0         980  \n",
       "1    50.510336  Northern     97000.0        1308  \n",
       "2   105.764044  Northern         NaN           0  \n",
       "3   121.219598  Northern         NaN         778  \n",
       "4     4.533707  Northern         NaN          14  \n",
       "5     2.258063  Northern    160428.0        2629  \n",
       "6     4.616128  Northern         NaN           0  \n",
       "7    49.832675  Northern     85000.0         138  \n",
       "8   -73.522715  Northern    307000.0        1032  \n",
       "9     5.780472  Northern    160000.0           0  \n",
       "10   14.760464  Northern    203000.0           0  \n",
       "11   -1.014299  Northern    351000.0        1275  \n",
       "12   19.250024  Northern    230000.0        1617  \n",
       "13    5.965806  Northern    251864.0        3241  \n",
       "14    9.282641  Northern    200000.0        1900  \n",
       "15  103.862879  Northern         NaN         882  \n",
       "16   39.960680  Northern         NaN        2756  \n",
       "17  136.538086  Northern    202146.0         495  \n",
       "18  -97.636410  Northern    268000.0        4359  \n",
       "19  -99.086335  Northern    345694.0       15493  \n",
       "20  -46.697170  Southern         NaN          31  \n",
       "21   54.605789  Northern         NaN        2291  "
      ]
     },
     "execution_count": 62,
     "metadata": {},
     "output_type": "execute_result"
    }
   ],
   "source": [
    "df"
   ]
  },
  {
   "cell_type": "code",
   "execution_count": 70,
   "metadata": {},
   "outputs": [],
   "source": [
    "df.set_index('Country',inplace=True)"
   ]
  },
  {
   "cell_type": "code",
   "execution_count": 71,
   "metadata": {},
   "outputs": [],
   "source": [
    "df.drop(['Australia','Bahrain','Azerbaijan','Brazil'],inplace=True)"
   ]
  },
  {
   "cell_type": "code",
   "execution_count": 72,
   "metadata": {},
   "outputs": [],
   "source": [
    "map_final = folium.Map(location=[df['Latitude'].mean(), df['Longitude'].mean()],zoom_start=2)"
   ]
  },
  {
   "cell_type": "code",
   "execution_count": 73,
   "metadata": {
    "scrolled": false
   },
   "outputs": [
    {
     "data": {
      "text/html": [
       "<div style=\"width:100%;\"><div style=\"position:relative;width:100%;height:0;padding-bottom:60%;\"><iframe src=\"about:blank\" style=\"position:absolute;width:100%;height:100%;left:0;top:0;border:none !important;\" data-html=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 onload=\"this.contentDocument.open();this.contentDocument.write(atob(this.getAttribute('data-html')));this.contentDocument.close();\" allowfullscreen webkitallowfullscreen mozallowfullscreen></iframe></div></div>"
      ],
      "text/plain": [
       "<folium.folium.Map at 0x1d597737908>"
      ]
     },
     "execution_count": 73,
     "metadata": {},
     "output_type": "execute_result"
    }
   ],
   "source": [
    "for lat, lng, grandprix, schedule in zip(df['Latitude'], df['Longitude'], df['Grand Prix'], df['Schedule']):\n",
    "    label = '{}'.format(grandprix)\n",
    "    label = folium.Popup(label, parse_html=True)\n",
    "    folium.CircleMarker(\n",
    "        [lat, lng],\n",
    "        radius=3,\n",
    "        popup=label,\n",
    "        color='#cc3131',\n",
    "        fill=True,\n",
    "        fill_color='#f59c78',\n",
    "        fill_opacity=0.7,\n",
    "        parse_html=False).add_to(map_final)  \n",
    "map_final"
   ]
  },
  {
   "cell_type": "code",
   "execution_count": 102,
   "metadata": {},
   "outputs": [],
   "source": [
    "# Create numpy array from coordinates\n",
    "Xf = np.column_stack((list(df['Longitude']), list(df['Latitude'])))"
   ]
  },
  {
   "cell_type": "code",
   "execution_count": 103,
   "metadata": {},
   "outputs": [],
   "source": [
    "k_means = KMeans(init = \"k-means++\", n_clusters = 5, n_init = 12)\n",
    "k_means.fit(Xf)\n",
    "\n",
    "k_means_labels = k_means.labels_\n",
    "k_means_cluster_centers = k_means.cluster_centers_"
   ]
  },
  {
   "cell_type": "code",
   "execution_count": 104,
   "metadata": {},
   "outputs": [
    {
     "data": {
      "image/png": "[encoded data removed]",
      "text/plain": [
       "<Figure size 1152x576 with 1 Axes>"
      ]
     },
     "metadata": {},
     "output_type": "display_data"
    }
   ],
   "source": [
    "# Initialize the plot with the specified dimensions.\n",
    "fig = plt.figure(figsize=(16, 8))\n",
    "\n",
    "# Colors uses a color map, which will produce an array of colors based on\n",
    "# the number of labels there are. We use set(k_means_labels) to get the\n",
    "# unique labels.\n",
    "colors = plt.cm.Spectral(np.linspace(0, 1, len(set(k_means_labels))))\n",
    "\n",
    "# Create a plot\n",
    "ax = fig.add_subplot(1, 1, 1)\n",
    "\n",
    "# For loop that plots the data points and centroids.\n",
    "# k will range from 0-3, which will match the possible clusters that each\n",
    "# data point is in.\n",
    "for k, col in zip(range(len([[4,4], [-2, -1], [2, -3], [1, 1]])), colors):\n",
    "\n",
    "    # Create a list of all data points, where the data poitns that are \n",
    "    # in the cluster (ex. cluster 0) are labeled as true, else they are\n",
    "    # labeled as false.\n",
    "    my_members = (k_means_labels == k)\n",
    "    \n",
    "    # Define the centroid, or cluster center.\n",
    "    cluster_center = k_means_cluster_centers[k]\n",
    "    \n",
    "    # Plots the datapoints with color col.\n",
    "    ax.plot(Xf[my_members, 0], Xf[my_members, 1], 'o', markerfacecolor=col, marker='.', markersize=18)\n",
    "    \n",
    "    # Plots the centroids with specified color, but with a darker outline\n",
    "    ax.plot(cluster_center[0], cluster_center[1], 'o', markerfacecolor=col,  markeredgecolor='k', markersize=22)\n",
    "\n",
    "# Title of the plot\n",
    "ax.set_title('KMeans Clusters of Race events', fontsize = 20)\n",
    "\n",
    "# Remove x-axis ticks\n",
    "ax.set_xticks(())\n",
    "\n",
    "# Remove y-axis ticks\n",
    "ax.set_yticks(())\n",
    "\n",
    "# Show the plot\n",
    "plt.show()"
   ]
  }
 ],
 "metadata": {
  "kernelspec": {
   "display_name": "Python 3",
   "language": "python",
   "name": "python3"
  },
  "language_info": {
   "codemirror_mode": {
    "name": "ipython",
    "version": 3
   },
   "file_extension": ".py",
   "mimetype": "text/x-python",
   "name": "python",
   "nbconvert_exporter": "python",
   "pygments_lexer": "ipython3",
   "version": "3.7.6"
  }
 },
 "nbformat": 4,
 "nbformat_minor": 4
}
